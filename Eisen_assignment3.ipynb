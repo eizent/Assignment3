{
 "cells": [
  {
   "cell_type": "markdown",
   "id": "209879b8",
   "metadata": {},
   "source": [
    "# Exploratory Data Analysis: Dress Codes in USA High Schools\n",
    "For this assignment, I will be exploring two datasets related to dress codes in schools. \n",
    "The data is accessible on github.com/eizent/assignment3 and originates from The Pudding at https://data.world/the-pudding/dress-codes."
   ]
  },
  {
   "cell_type": "code",
   "execution_count": 1,
   "id": "54972a8e",
   "metadata": {},
   "outputs": [],
   "source": [
    "import pandas as pd"
   ]
  },
  {
   "cell_type": "code",
   "execution_count": 2,
   "id": "32ebeef5",
   "metadata": {},
   "outputs": [],
   "source": [
    "pd.options.display.max_rows = 200"
   ]
  },
  {
   "cell_type": "markdown",
   "id": "51fb75e5",
   "metadata": {},
   "source": [
    "First, I will import the first csv file and create a dataframe. Then, I inspect the data set to see the format. "
   ]
  },
  {
   "cell_type": "code",
   "execution_count": 3,
   "id": "37a6967b",
   "metadata": {},
   "outputs": [],
   "source": [
    "dressban_df = pd.read_csv('data/banned_items.csv', delimiter=\",\", encoding = 'utf-8')"
   ]
  },
  {
   "cell_type": "code",
   "execution_count": 4,
   "id": "345703ce",
   "metadata": {},
   "outputs": [
    {
     "data": {
      "text/html": [
       "<div>\n",
       "<style scoped>\n",
       "    .dataframe tbody tr th:only-of-type {\n",
       "        vertical-align: middle;\n",
       "    }\n",
       "\n",
       "    .dataframe tbody tr th {\n",
       "        vertical-align: top;\n",
       "    }\n",
       "\n",
       "    .dataframe thead th {\n",
       "        text-align: right;\n",
       "    }\n",
       "</style>\n",
       "<table border=\"1\" class=\"dataframe\">\n",
       "  <thead>\n",
       "    <tr style=\"text-align: right;\">\n",
       "      <th></th>\n",
       "      <th>index</th>\n",
       "      <th>schoolName</th>\n",
       "      <th>state</th>\n",
       "      <th>item</th>\n",
       "      <th>type</th>\n",
       "      <th>prohibited</th>\n",
       "    </tr>\n",
       "  </thead>\n",
       "  <tbody>\n",
       "    <tr>\n",
       "      <th>14327</th>\n",
       "      <td>14327</td>\n",
       "      <td>CLEAR BROOK H S</td>\n",
       "      <td>TX</td>\n",
       "      <td>safe/safety</td>\n",
       "      <td>rationale</td>\n",
       "      <td>NaN</td>\n",
       "    </tr>\n",
       "    <tr>\n",
       "      <th>716</th>\n",
       "      <td>716</td>\n",
       "      <td>POTOSI HIGH</td>\n",
       "      <td>WI</td>\n",
       "      <td>sharp accessories</td>\n",
       "      <td>accessories</td>\n",
       "      <td>none</td>\n",
       "    </tr>\n",
       "    <tr>\n",
       "      <th>4501</th>\n",
       "      <td>4501</td>\n",
       "      <td>ALVARADO H S</td>\n",
       "      <td>TX</td>\n",
       "      <td>handkerchiefs</td>\n",
       "      <td>headwear</td>\n",
       "      <td>none</td>\n",
       "    </tr>\n",
       "    <tr>\n",
       "      <th>5036</th>\n",
       "      <td>5036</td>\n",
       "      <td>IRONTON HIGH SCHOOL</td>\n",
       "      <td>OH</td>\n",
       "      <td>hats</td>\n",
       "      <td>headwear</td>\n",
       "      <td>none</td>\n",
       "    </tr>\n",
       "    <tr>\n",
       "      <th>1473</th>\n",
       "      <td>1473</td>\n",
       "      <td>SCOTTS VALLEY HIGH</td>\n",
       "      <td>CA</td>\n",
       "      <td>backless</td>\n",
       "      <td>shirt</td>\n",
       "      <td>none</td>\n",
       "    </tr>\n",
       "    <tr>\n",
       "      <th>13795</th>\n",
       "      <td>13795</td>\n",
       "      <td>ROGERS H S</td>\n",
       "      <td>TX</td>\n",
       "      <td>disruption/distraction</td>\n",
       "      <td>rationale</td>\n",
       "      <td>NaN</td>\n",
       "    </tr>\n",
       "    <tr>\n",
       "      <th>2687</th>\n",
       "      <td>2687</td>\n",
       "      <td>PLEASANT GROVE H S</td>\n",
       "      <td>TX</td>\n",
       "      <td>with holes above knee</td>\n",
       "      <td>pants</td>\n",
       "      <td>none</td>\n",
       "    </tr>\n",
       "    <tr>\n",
       "      <th>10057</th>\n",
       "      <td>10057</td>\n",
       "      <td>UNION HIGH SCHOOL</td>\n",
       "      <td>IA</td>\n",
       "      <td>tobacco</td>\n",
       "      <td>promotion</td>\n",
       "      <td>NaN</td>\n",
       "    </tr>\n",
       "    <tr>\n",
       "      <th>12475</th>\n",
       "      <td>12475</td>\n",
       "      <td>CENTRALIA HIGH</td>\n",
       "      <td>MO</td>\n",
       "      <td>short shorts</td>\n",
       "      <td>length</td>\n",
       "      <td>NaN</td>\n",
       "    </tr>\n",
       "    <tr>\n",
       "      <th>13744</th>\n",
       "      <td>13744</td>\n",
       "      <td>APPOQUINIMINK HIGH SCHOOL</td>\n",
       "      <td>DE</td>\n",
       "      <td>disruption/distraction</td>\n",
       "      <td>rationale</td>\n",
       "      <td>NaN</td>\n",
       "    </tr>\n",
       "  </tbody>\n",
       "</table>\n",
       "</div>"
      ],
      "text/plain": [
       "       index                 schoolName state                    item  \\\n",
       "14327  14327            CLEAR BROOK H S    TX             safe/safety   \n",
       "716      716                POTOSI HIGH    WI       sharp accessories   \n",
       "4501    4501               ALVARADO H S    TX           handkerchiefs   \n",
       "5036    5036        IRONTON HIGH SCHOOL    OH                    hats   \n",
       "1473    1473         SCOTTS VALLEY HIGH    CA                backless   \n",
       "13795  13795                 ROGERS H S    TX  disruption/distraction   \n",
       "2687    2687         PLEASANT GROVE H S    TX   with holes above knee   \n",
       "10057  10057          UNION HIGH SCHOOL    IA                 tobacco   \n",
       "12475  12475             CENTRALIA HIGH    MO            short shorts   \n",
       "13744  13744  APPOQUINIMINK HIGH SCHOOL    DE  disruption/distraction   \n",
       "\n",
       "              type prohibited  \n",
       "14327    rationale        NaN  \n",
       "716    accessories       none  \n",
       "4501      headwear       none  \n",
       "5036      headwear       none  \n",
       "1473         shirt       none  \n",
       "13795    rationale        NaN  \n",
       "2687         pants       none  \n",
       "10057    promotion        NaN  \n",
       "12475       length        NaN  \n",
       "13744    rationale        NaN  "
      ]
     },
     "execution_count": 4,
     "metadata": {},
     "output_type": "execute_result"
    }
   ],
   "source": [
    "dressban_df.sample(10)"
   ]
  },
  {
   "cell_type": "markdown",
   "id": "82e16d99",
   "metadata": {},
   "source": [
    "Next, I will retrieve the other dataset and save it as a new dataframe. "
   ]
  },
  {
   "cell_type": "code",
   "execution_count": 5,
   "id": "dcf4a089",
   "metadata": {},
   "outputs": [],
   "source": [
    "clothpercent_df = pd.read_csv('data/clothes_percentages.csv', delimiter=\",\", encoding = 'utf-8')"
   ]
  },
  {
   "cell_type": "code",
   "execution_count": 6,
   "id": "3f56b9b4",
   "metadata": {},
   "outputs": [
    {
     "data": {
      "text/html": [
       "<div>\n",
       "<style scoped>\n",
       "    .dataframe tbody tr th:only-of-type {\n",
       "        vertical-align: middle;\n",
       "    }\n",
       "\n",
       "    .dataframe tbody tr th {\n",
       "        vertical-align: top;\n",
       "    }\n",
       "\n",
       "    .dataframe thead th {\n",
       "        text-align: right;\n",
       "    }\n",
       "</style>\n",
       "<table border=\"1\" class=\"dataframe\">\n",
       "  <thead>\n",
       "    <tr style=\"text-align: right;\">\n",
       "      <th></th>\n",
       "      <th>slug</th>\n",
       "      <th>market</th>\n",
       "      <th>reveal_body</th>\n",
       "      <th>n</th>\n",
       "      <th>per</th>\n",
       "      <th>group</th>\n",
       "    </tr>\n",
       "  </thead>\n",
       "  <tbody>\n",
       "    <tr>\n",
       "      <th>26</th>\n",
       "      <td>cutoff shorts</td>\n",
       "      <td>f</td>\n",
       "      <td>y</td>\n",
       "      <td>49</td>\n",
       "      <td>10</td>\n",
       "      <td>10</td>\n",
       "    </tr>\n",
       "    <tr>\n",
       "      <th>10</th>\n",
       "      <td>pajamas</td>\n",
       "      <td>n</td>\n",
       "      <td>n</td>\n",
       "      <td>161</td>\n",
       "      <td>33</td>\n",
       "      <td>30</td>\n",
       "    </tr>\n",
       "    <tr>\n",
       "      <th>19</th>\n",
       "      <td>fishnet clothing</td>\n",
       "      <td>f</td>\n",
       "      <td>y</td>\n",
       "      <td>73</td>\n",
       "      <td>15</td>\n",
       "      <td>10</td>\n",
       "    </tr>\n",
       "    <tr>\n",
       "      <th>24</th>\n",
       "      <td>bike shorts</td>\n",
       "      <td>n</td>\n",
       "      <td>y</td>\n",
       "      <td>54</td>\n",
       "      <td>11</td>\n",
       "      <td>10</td>\n",
       "    </tr>\n",
       "    <tr>\n",
       "      <th>30</th>\n",
       "      <td>off shoulder shirt</td>\n",
       "      <td>f</td>\n",
       "      <td>y</td>\n",
       "      <td>31</td>\n",
       "      <td>6</td>\n",
       "      <td>0</td>\n",
       "    </tr>\n",
       "    <tr>\n",
       "      <th>7</th>\n",
       "      <td>halter top</td>\n",
       "      <td>f</td>\n",
       "      <td>y</td>\n",
       "      <td>183</td>\n",
       "      <td>38</td>\n",
       "      <td>30</td>\n",
       "    </tr>\n",
       "    <tr>\n",
       "      <th>27</th>\n",
       "      <td>spandex clothing</td>\n",
       "      <td>n</td>\n",
       "      <td>y</td>\n",
       "      <td>41</td>\n",
       "      <td>8</td>\n",
       "      <td>0</td>\n",
       "    </tr>\n",
       "    <tr>\n",
       "      <th>3</th>\n",
       "      <td>sagging pants</td>\n",
       "      <td>m</td>\n",
       "      <td>y</td>\n",
       "      <td>219</td>\n",
       "      <td>45</td>\n",
       "      <td>40</td>\n",
       "    </tr>\n",
       "    <tr>\n",
       "      <th>39</th>\n",
       "      <td>strapless dress</td>\n",
       "      <td>f</td>\n",
       "      <td>y</td>\n",
       "      <td>22</td>\n",
       "      <td>5</td>\n",
       "      <td>0</td>\n",
       "    </tr>\n",
       "    <tr>\n",
       "      <th>9</th>\n",
       "      <td>short* dresses</td>\n",
       "      <td>f</td>\n",
       "      <td>y</td>\n",
       "      <td>172</td>\n",
       "      <td>36</td>\n",
       "      <td>30</td>\n",
       "    </tr>\n",
       "  </tbody>\n",
       "</table>\n",
       "</div>"
      ],
      "text/plain": [
       "                  slug market reveal_body    n  per  group\n",
       "26       cutoff shorts      f           y   49   10     10\n",
       "10             pajamas      n           n  161   33     30\n",
       "19    fishnet clothing      f           y   73   15     10\n",
       "24         bike shorts      n           y   54   11     10\n",
       "30  off shoulder shirt      f           y   31    6      0\n",
       "7           halter top      f           y  183   38     30\n",
       "27    spandex clothing      n           y   41    8      0\n",
       "3        sagging pants      m           y  219   45     40\n",
       "39     strapless dress      f           y   22    5      0\n",
       "9       short* dresses      f           y  172   36     30"
      ]
     },
     "execution_count": 6,
     "metadata": {},
     "output_type": "execute_result"
    }
   ],
   "source": [
    "clothpercent_df.sample(10)"
   ]
  },
  {
   "cell_type": "markdown",
   "id": "ad923300",
   "metadata": {},
   "source": [
    "Looking at this dataset, I wanted to change the variables to be more intuitive. "
   ]
  },
  {
   "cell_type": "code",
   "execution_count": 7,
   "id": "090c6a6c",
   "metadata": {},
   "outputs": [],
   "source": [
    "clothpercent_df = clothpercent_df.rename(columns={'slug': 'clothing_name', 'market': 'gender', 'n': 'schools_banned', 'per': 'percent_school_banned'})"
   ]
  },
  {
   "cell_type": "code",
   "execution_count": 8,
   "id": "9c1992a4",
   "metadata": {},
   "outputs": [
    {
     "data": {
      "text/html": [
       "<div>\n",
       "<style scoped>\n",
       "    .dataframe tbody tr th:only-of-type {\n",
       "        vertical-align: middle;\n",
       "    }\n",
       "\n",
       "    .dataframe tbody tr th {\n",
       "        vertical-align: top;\n",
       "    }\n",
       "\n",
       "    .dataframe thead th {\n",
       "        text-align: right;\n",
       "    }\n",
       "</style>\n",
       "<table border=\"1\" class=\"dataframe\">\n",
       "  <thead>\n",
       "    <tr style=\"text-align: right;\">\n",
       "      <th></th>\n",
       "      <th>clothing_name</th>\n",
       "      <th>gender</th>\n",
       "      <th>reveal_body</th>\n",
       "      <th>schools_banned</th>\n",
       "      <th>percent_school_banned</th>\n",
       "      <th>group</th>\n",
       "    </tr>\n",
       "  </thead>\n",
       "  <tbody>\n",
       "    <tr>\n",
       "      <th>0</th>\n",
       "      <td>short* shorts</td>\n",
       "      <td>f</td>\n",
       "      <td>y</td>\n",
       "      <td>334</td>\n",
       "      <td>69</td>\n",
       "      <td>60</td>\n",
       "    </tr>\n",
       "    <tr>\n",
       "      <th>1</th>\n",
       "      <td>visible underwear</td>\n",
       "      <td>n</td>\n",
       "      <td>y</td>\n",
       "      <td>332</td>\n",
       "      <td>69</td>\n",
       "      <td>60</td>\n",
       "    </tr>\n",
       "    <tr>\n",
       "      <th>2</th>\n",
       "      <td>short* skirt</td>\n",
       "      <td>f</td>\n",
       "      <td>y</td>\n",
       "      <td>290</td>\n",
       "      <td>60</td>\n",
       "      <td>60</td>\n",
       "    </tr>\n",
       "    <tr>\n",
       "      <th>3</th>\n",
       "      <td>sagging pants</td>\n",
       "      <td>m</td>\n",
       "      <td>y</td>\n",
       "      <td>219</td>\n",
       "      <td>45</td>\n",
       "      <td>40</td>\n",
       "    </tr>\n",
       "    <tr>\n",
       "      <th>4</th>\n",
       "      <td>sheer clothing</td>\n",
       "      <td>f</td>\n",
       "      <td>y</td>\n",
       "      <td>201</td>\n",
       "      <td>42</td>\n",
       "      <td>40</td>\n",
       "    </tr>\n",
       "  </tbody>\n",
       "</table>\n",
       "</div>"
      ],
      "text/plain": [
       "       clothing_name gender reveal_body  schools_banned  \\\n",
       "0      short* shorts      f           y             334   \n",
       "1  visible underwear      n           y             332   \n",
       "2       short* skirt      f           y             290   \n",
       "3      sagging pants      m           y             219   \n",
       "4     sheer clothing      f           y             201   \n",
       "\n",
       "   percent_school_banned  group  \n",
       "0                     69     60  \n",
       "1                     69     60  \n",
       "2                     60     60  \n",
       "3                     45     40  \n",
       "4                     42     40  "
      ]
     },
     "execution_count": 8,
     "metadata": {},
     "output_type": "execute_result"
    }
   ],
   "source": [
    "clothpercent_df.head()"
   ]
  },
  {
   "cell_type": "markdown",
   "id": "873a0b3a",
   "metadata": {},
   "source": [
    "Next, I will have an exploratory look at both of the datasets, using a histogram for clothpercent_df and the describe function for the other dataframe (because it does not contain numerical data). "
   ]
  },
  {
   "cell_type": "code",
   "execution_count": 9,
   "id": "9be2457c",
   "metadata": {},
   "outputs": [
    {
     "data": {
      "text/plain": [
       "array([[<Axes: title={'center': 'schools_banned'}>,\n",
       "        <Axes: title={'center': 'percent_school_banned'}>],\n",
       "       [<Axes: title={'center': 'group'}>, <Axes: >]], dtype=object)"
      ]
     },
     "execution_count": 9,
     "metadata": {},
     "output_type": "execute_result"
    },
    {
     "data": {
      "image/png": "[encoded data removed]",
      "text/plain": [
       "<Figure size 1000x1000 with 4 Axes>"
      ]
     },
     "metadata": {},
     "output_type": "display_data"
    }
   ],
   "source": [
    "clothpercent_df.hist(figsize=(10,10))"
   ]
  },
  {
   "cell_type": "code",
   "execution_count": 10,
   "id": "c55527a3",
   "metadata": {},
   "outputs": [
    {
     "data": {
      "text/html": [
       "<div>\n",
       "<style scoped>\n",
       "    .dataframe tbody tr th:only-of-type {\n",
       "        vertical-align: middle;\n",
       "    }\n",
       "\n",
       "    .dataframe tbody tr th {\n",
       "        vertical-align: top;\n",
       "    }\n",
       "\n",
       "    .dataframe thead th {\n",
       "        text-align: right;\n",
       "    }\n",
       "</style>\n",
       "<table border=\"1\" class=\"dataframe\">\n",
       "  <thead>\n",
       "    <tr style=\"text-align: right;\">\n",
       "      <th></th>\n",
       "      <th>clothing_name</th>\n",
       "      <th>gender</th>\n",
       "      <th>reveal_body</th>\n",
       "      <th>schools_banned</th>\n",
       "      <th>percent_school_banned</th>\n",
       "      <th>group</th>\n",
       "    </tr>\n",
       "  </thead>\n",
       "  <tbody>\n",
       "    <tr>\n",
       "      <th>count</th>\n",
       "      <td>40</td>\n",
       "      <td>40</td>\n",
       "      <td>40</td>\n",
       "      <td>40.000000</td>\n",
       "      <td>40.000000</td>\n",
       "      <td>40.000000</td>\n",
       "    </tr>\n",
       "    <tr>\n",
       "      <th>unique</th>\n",
       "      <td>40</td>\n",
       "      <td>3</td>\n",
       "      <td>2</td>\n",
       "      <td>NaN</td>\n",
       "      <td>NaN</td>\n",
       "      <td>NaN</td>\n",
       "    </tr>\n",
       "    <tr>\n",
       "      <th>top</th>\n",
       "      <td>short* shorts</td>\n",
       "      <td>f</td>\n",
       "      <td>y</td>\n",
       "      <td>NaN</td>\n",
       "      <td>NaN</td>\n",
       "      <td>NaN</td>\n",
       "    </tr>\n",
       "    <tr>\n",
       "      <th>freq</th>\n",
       "      <td>1</td>\n",
       "      <td>21</td>\n",
       "      <td>36</td>\n",
       "      <td>NaN</td>\n",
       "      <td>NaN</td>\n",
       "      <td>NaN</td>\n",
       "    </tr>\n",
       "    <tr>\n",
       "      <th>mean</th>\n",
       "      <td>NaN</td>\n",
       "      <td>NaN</td>\n",
       "      <td>NaN</td>\n",
       "      <td>104.150000</td>\n",
       "      <td>21.550000</td>\n",
       "      <td>16.250000</td>\n",
       "    </tr>\n",
       "    <tr>\n",
       "      <th>std</th>\n",
       "      <td>NaN</td>\n",
       "      <td>NaN</td>\n",
       "      <td>NaN</td>\n",
       "      <td>86.155956</td>\n",
       "      <td>17.887039</td>\n",
       "      <td>17.495421</td>\n",
       "    </tr>\n",
       "    <tr>\n",
       "      <th>min</th>\n",
       "      <td>NaN</td>\n",
       "      <td>NaN</td>\n",
       "      <td>NaN</td>\n",
       "      <td>22.000000</td>\n",
       "      <td>5.000000</td>\n",
       "      <td>0.000000</td>\n",
       "    </tr>\n",
       "    <tr>\n",
       "      <th>25%</th>\n",
       "      <td>NaN</td>\n",
       "      <td>NaN</td>\n",
       "      <td>NaN</td>\n",
       "      <td>31.750000</td>\n",
       "      <td>6.750000</td>\n",
       "      <td>0.000000</td>\n",
       "    </tr>\n",
       "    <tr>\n",
       "      <th>50%</th>\n",
       "      <td>NaN</td>\n",
       "      <td>NaN</td>\n",
       "      <td>NaN</td>\n",
       "      <td>72.000000</td>\n",
       "      <td>15.000000</td>\n",
       "      <td>10.000000</td>\n",
       "    </tr>\n",
       "    <tr>\n",
       "      <th>75%</th>\n",
       "      <td>NaN</td>\n",
       "      <td>NaN</td>\n",
       "      <td>NaN</td>\n",
       "      <td>163.750000</td>\n",
       "      <td>33.750000</td>\n",
       "      <td>30.000000</td>\n",
       "    </tr>\n",
       "    <tr>\n",
       "      <th>max</th>\n",
       "      <td>NaN</td>\n",
       "      <td>NaN</td>\n",
       "      <td>NaN</td>\n",
       "      <td>334.000000</td>\n",
       "      <td>69.000000</td>\n",
       "      <td>60.000000</td>\n",
       "    </tr>\n",
       "  </tbody>\n",
       "</table>\n",
       "</div>"
      ],
      "text/plain": [
       "        clothing_name gender reveal_body  schools_banned  \\\n",
       "count              40     40          40       40.000000   \n",
       "unique             40      3           2             NaN   \n",
       "top     short* shorts      f           y             NaN   \n",
       "freq                1     21          36             NaN   \n",
       "mean              NaN    NaN         NaN      104.150000   \n",
       "std               NaN    NaN         NaN       86.155956   \n",
       "min               NaN    NaN         NaN       22.000000   \n",
       "25%               NaN    NaN         NaN       31.750000   \n",
       "50%               NaN    NaN         NaN       72.000000   \n",
       "75%               NaN    NaN         NaN      163.750000   \n",
       "max               NaN    NaN         NaN      334.000000   \n",
       "\n",
       "        percent_school_banned      group  \n",
       "count               40.000000  40.000000  \n",
       "unique                    NaN        NaN  \n",
       "top                       NaN        NaN  \n",
       "freq                      NaN        NaN  \n",
       "mean                21.550000  16.250000  \n",
       "std                 17.887039  17.495421  \n",
       "min                  5.000000   0.000000  \n",
       "25%                  6.750000   0.000000  \n",
       "50%                 15.000000  10.000000  \n",
       "75%                 33.750000  30.000000  \n",
       "max                 69.000000  60.000000  "
      ]
     },
     "execution_count": 10,
     "metadata": {},
     "output_type": "execute_result"
    }
   ],
   "source": [
    "clothpercent_df.describe(include = 'all')"
   ]
  },
  {
   "cell_type": "markdown",
   "id": "d6266c1f",
   "metadata": {},
   "source": [
    "After inspecting both data sets, I can continue with exploring the data through visualizations. When I had chosen the topic of dress codes in school, I wanted to understand the relationship between restrictions and gender discrimination. "
   ]
  },
  {
   "cell_type": "markdown",
   "id": "e2e8071d",
   "metadata": {},
   "source": [
    "The first question I can explore through this data is 'What is the gender distribution for all of the banned clothing items in the data frame?'"
   ]
  },
  {
   "cell_type": "code",
   "execution_count": 11,
   "id": "a7d26e21",
   "metadata": {},
   "outputs": [
    {
     "data": {
      "text/plain": [
       "<Axes: title={'center': 'Gendered Distribution of Banned Items'}, ylabel='count'>"
      ]
     },
     "execution_count": 11,
     "metadata": {},
     "output_type": "execute_result"
    },
    {
     "data": {
      "image/png": "[encoded data removed]",
      "text/plain": [
       "<Figure size 640x480 with 1 Axes>"
      ]
     },
     "metadata": {},
     "output_type": "display_data"
    }
   ],
   "source": [
    "clothpercent_df['gender'].value_counts().plot(kind = 'pie', title = 'Gendered Distribution of Banned Items')"
   ]
  },
  {
   "cell_type": "markdown",
   "id": "55cea7e9",
   "metadata": {},
   "source": [
    "Using a pie chart, we can see that more than half of the banned items are items that are typically marketed towards girls (f) and the clothing banned that is specifically for boys (m) is only a small portion of the graph. "
   ]
  },
  {
   "cell_type": "markdown",
   "id": "69f3ffb0",
   "metadata": {},
   "source": [
    "Next, I wanted to see the distibution in type of clothing that is banned. "
   ]
  },
  {
   "cell_type": "code",
   "execution_count": 12,
   "id": "07300413",
   "metadata": {},
   "outputs": [],
   "source": [
    "clothtype = dressban_df[\"type\"]"
   ]
  },
  {
   "cell_type": "code",
   "execution_count": 13,
   "id": "c855f8c8",
   "metadata": {},
   "outputs": [
    {
     "data": {
      "text/plain": [
       "<Axes: title={'center': 'Categories of Banned Items'}, xlabel='type'>"
      ]
     },
     "execution_count": 13,
     "metadata": {},
     "output_type": "execute_result"
    },
    {
     "data": {
      "image/png": "[encoded data removed]",
      "text/plain": [
       "<Figure size 640x480 with 1 Axes>"
      ]
     },
     "metadata": {},
     "output_type": "display_data"
    }
   ],
   "source": [
    "clothtype.value_counts().plot(kind = 'bar', title = 'Categories of Banned Items')"
   ]
  },
  {
   "cell_type": "markdown",
   "id": "93cd1b50",
   "metadata": {},
   "source": [
    "Often, dress codes are created to ban items that are considered 'revealing,' especially in restrictions toward female students. To explore further, I wanted to see what the distribution of banned items that are considered revealing versus not. "
   ]
  },
  {
   "cell_type": "code",
   "execution_count": 15,
   "id": "d633b254",
   "metadata": {},
   "outputs": [
    {
     "data": {
      "text/plain": [
       "<Axes: title={'center': 'Are \"Revealing\" Items Banned More Often?'}, ylabel='count'>"
      ]
     },
     "execution_count": 15,
     "metadata": {},
     "output_type": "execute_result"
    },
    {
     "data": {
      "image/png": "[encoded data removed]",
      "text/plain": [
       "<Figure size 640x480 with 1 Axes>"
      ]
     },
     "metadata": {},
     "output_type": "display_data"
    }
   ],
   "source": [
    "clothpercent_df['reveal_body'].value_counts().plot(kind = 'pie', title = 'Are \"Revealing\" Items Banned More Often?')"
   ]
  },
  {
   "cell_type": "markdown",
   "id": "2548cc8e",
   "metadata": {},
   "source": [
    "Based on the resulting pie graph, it seems that the vast majority of banned items are classified as revealing. "
   ]
  },
  {
   "cell_type": "markdown",
   "id": "822fc937",
   "metadata": {},
   "source": [
    "This first exploration of the data already highlights several the reproduciton of gender roles and inequality reinforced through school dress codes. Through seeing the distribution of 'revealing' banned items, it shows that young girls are often sexualized through the clothing they wear and their bodies are sought ot be controlled thorugh these policies. Additionally, more than half of the banned items directly target girls clothing, while boys alone are policied only a small fraction of the time in these dress codes. "
   ]
  },
  {
   "cell_type": "code",
   "execution_count": null,
   "id": "21f05634",
   "metadata": {},
   "outputs": [],
   "source": []
  }
 ],
 "metadata": {
  "kernelspec": {
   "display_name": "Python 3 (ipykernel)",
   "language": "python",
   "name": "python3"
  },
  "language_info": {
   "codemirror_mode": {
    "name": "ipython",
    "version": 3
   },
   "file_extension": ".py",
   "mimetype": "text/x-python",
   "name": "python",
   "nbconvert_exporter": "python",
   "pygments_lexer": "ipython3",
   "version": "3.11.4"
  }
 },
 "nbformat": 4,
 "nbformat_minor": 5
}
